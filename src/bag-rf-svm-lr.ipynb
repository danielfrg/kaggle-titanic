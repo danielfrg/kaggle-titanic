{
 "metadata": {
  "name": "bag-rf-svm-lr"
 },
 "nbformat": 3,
 "nbformat_minor": 0,
 "worksheets": [
  {
   "cells": [
    {
     "cell_type": "code",
     "collapsed": false,
     "input": [
      "%load_ext autoreload\n",
      "%autoreload 2\n",
      "import copper\n",
      "import pandas as pd\n",
      "import numpy as np\n",
      "copper.project.path = '../'\n",
      "plt.rcParams['figure.figsize'] = 10, 7.55"
     ],
     "language": "python",
     "metadata": {},
     "outputs": [],
     "prompt_number": 1
    },
    {
     "cell_type": "code",
     "collapsed": false,
     "input": [
      "from sklearn.ensemble import RandomForestClassifier\n",
      "from sklearn.svm import SVC\n",
      "from sklearn.linear_model import LogisticRegression"
     ],
     "language": "python",
     "metadata": {},
     "outputs": [],
     "prompt_number": 2
    },
    {
     "cell_type": "code",
     "collapsed": false,
     "input": [
      "rf = RandomForestClassifier(n_estimators=100, max_depth=6)"
     ],
     "language": "python",
     "metadata": {},
     "outputs": [],
     "prompt_number": 3
    },
    {
     "cell_type": "code",
     "collapsed": false,
     "input": [
      "svm = SVC(C=10, gamma=0.001, probability=True)"
     ],
     "language": "python",
     "metadata": {},
     "outputs": [],
     "prompt_number": 4
    },
    {
     "cell_type": "code",
     "collapsed": false,
     "input": [
      "lr = LogisticRegression(penalty='l1', C=0.1)"
     ],
     "language": "python",
     "metadata": {},
     "outputs": [],
     "prompt_number": 5
    },
    {
     "cell_type": "code",
     "collapsed": false,
     "input": [
      "train = copper.load('train.ds')"
     ],
     "language": "python",
     "metadata": {},
     "outputs": [],
     "prompt_number": 6
    },
    {
     "cell_type": "code",
     "collapsed": false,
     "input": [
      "train.type['pclass'] = train.CATEGORY\n",
      "train.role['embarked'] = train.REJECT"
     ],
     "language": "python",
     "metadata": {},
     "outputs": [],
     "prompt_number": 7
    },
    {
     "cell_type": "code",
     "collapsed": false,
     "input": [
      "mc = copper.ModelComparison()"
     ],
     "language": "python",
     "metadata": {},
     "outputs": [],
     "prompt_number": 8
    },
    {
     "cell_type": "code",
     "collapsed": false,
     "input": [
      "random.seed(123)\n",
      "mc.sample(train, 0.7)"
     ],
     "language": "python",
     "metadata": {},
     "outputs": [],
     "prompt_number": 9
    },
    {
     "cell_type": "code",
     "collapsed": false,
     "input": [
      "mc.train = train"
     ],
     "language": "python",
     "metadata": {},
     "outputs": [],
     "prompt_number": 19
    },
    {
     "cell_type": "code",
     "collapsed": false,
     "input": [
      "mc.add_clf(rf, 'rf')"
     ],
     "language": "python",
     "metadata": {},
     "outputs": [],
     "prompt_number": 20
    },
    {
     "cell_type": "code",
     "collapsed": false,
     "input": [
      "mc.add_clf(svm, 'svm')"
     ],
     "language": "python",
     "metadata": {},
     "outputs": [],
     "prompt_number": 21
    },
    {
     "cell_type": "code",
     "collapsed": false,
     "input": [
      "mc.add_clf(lr, 'lr')"
     ],
     "language": "python",
     "metadata": {},
     "outputs": [],
     "prompt_number": 22
    },
    {
     "cell_type": "code",
     "collapsed": false,
     "input": [
      "mc.fit()"
     ],
     "language": "python",
     "metadata": {},
     "outputs": [],
     "prompt_number": 23
    },
    {
     "cell_type": "code",
     "collapsed": false,
     "input": [
      "bag = copper.AverageBag()"
     ],
     "language": "python",
     "metadata": {},
     "outputs": [],
     "prompt_number": 52
    },
    {
     "cell_type": "code",
     "collapsed": false,
     "input": [
      "bag = copper.PriorityBag(range=0.2)"
     ],
     "language": "python",
     "metadata": {},
     "outputs": [],
     "prompt_number": 64
    },
    {
     "cell_type": "code",
     "collapsed": false,
     "input": [
      "bag.add_clf(rf)\n",
      "bag.add_clf(lr)\n",
      "#bag.add_clf(svm)"
     ],
     "language": "python",
     "metadata": {},
     "outputs": [],
     "prompt_number": 65
    },
    {
     "cell_type": "code",
     "collapsed": false,
     "input": [
      "mc.add_clf(bag, 'bag')"
     ],
     "language": "python",
     "metadata": {},
     "outputs": [],
     "prompt_number": 66
    },
    {
     "cell_type": "code",
     "collapsed": false,
     "input": [
      "mc.accuracy()"
     ],
     "language": "python",
     "metadata": {},
     "outputs": [
      {
       "output_type": "pyout",
       "prompt_number": 67,
       "text": [
        "rf     0.884328\n",
        "bag    0.880597\n",
        "svm    0.824627\n",
        "lr     0.798507\n",
        "Name: Accuracy"
       ]
      }
     ],
     "prompt_number": 67
    },
    {
     "cell_type": "code",
     "collapsed": false,
     "input": [
      "mc.cv_accuracy()"
     ],
     "language": "python",
     "metadata": {},
     "outputs": [
      {
       "output_type": "pyout",
       "prompt_number": 68,
       "text": [
        "rf     0.828283\n",
        "bag    0.801347\n",
        "lr     0.792368\n",
        "svm    0.781145\n",
        "Name: CV Accuracy"
       ]
      }
     ],
     "prompt_number": 68
    },
    {
     "cell_type": "heading",
     "level": 2,
     "metadata": {},
     "source": [
      "Score"
     ]
    },
    {
     "cell_type": "code",
     "collapsed": false,
     "input": [
      "test = copper.load('test.ds')"
     ],
     "language": "python",
     "metadata": {},
     "outputs": [],
     "prompt_number": 69
    },
    {
     "cell_type": "code",
     "collapsed": false,
     "input": [
      "test.type['pclass'] = train.CATEGORY\n",
      "test.role['embarked'] = train.REJECT"
     ],
     "language": "python",
     "metadata": {},
     "outputs": [],
     "prompt_number": 70
    },
    {
     "cell_type": "code",
     "collapsed": false,
     "input": [
      "mc.train = train\n",
      "mc.test = test"
     ],
     "language": "python",
     "metadata": {},
     "outputs": [],
     "prompt_number": 71
    },
    {
     "cell_type": "code",
     "collapsed": false,
     "input": [
      "pred = mc.predict()"
     ],
     "language": "python",
     "metadata": {},
     "outputs": [],
     "prompt_number": 72
    },
    {
     "cell_type": "code",
     "collapsed": false,
     "input": [
      "pred['bag'].head(10)"
     ],
     "language": "python",
     "metadata": {},
     "outputs": [
      {
       "output_type": "pyout",
       "prompt_number": 74,
       "text": [
        "0    0\n",
        "1    0\n",
        "2    0\n",
        "3    0\n",
        "4    1\n",
        "5    0\n",
        "6    1\n",
        "7    0\n",
        "8    1\n",
        "9    0\n",
        "Name: bag"
       ]
      }
     ],
     "prompt_number": 74
    },
    {
     "cell_type": "code",
     "collapsed": false,
     "input": [
      "copper.save(pred['bag'], 'pbag(rf_lr).csv', to='predictions', index=False, header=False)"
     ],
     "language": "python",
     "metadata": {},
     "outputs": [],
     "prompt_number": 73
    },
    {
     "cell_type": "code",
     "collapsed": false,
     "input": [
      "copper.save(pred['lr'], 'lr.csv', to='predictions', index=False, header=False)"
     ],
     "language": "python",
     "metadata": {},
     "outputs": [],
     "prompt_number": 30
    },
    {
     "cell_type": "code",
     "collapsed": false,
     "input": [
      "copper.save(pred, 'pred.csv', to='predictions')"
     ],
     "language": "python",
     "metadata": {},
     "outputs": [],
     "prompt_number": 39
    },
    {
     "cell_type": "code",
     "collapsed": false,
     "input": [
      "mc.predict_proba().head()"
     ],
     "language": "python",
     "metadata": {},
     "outputs": [
      {
       "html": [
        "<div style=\"max-height:1000px;max-width:1500px;overflow:auto;\">\n",
        "<table border=\"1\" class=\"dataframe\">\n",
        "  <thead>\n",
        "    <tr style=\"text-align: right;\">\n",
        "      <th></th>\n",
        "      <th>bag [0]</th>\n",
        "      <th>bag [1]</th>\n",
        "      <th>rf [0]</th>\n",
        "      <th>rf [1]</th>\n",
        "      <th>svm [0]</th>\n",
        "      <th>svm [1]</th>\n",
        "      <th>lr [0]</th>\n",
        "      <th>lr [1]</th>\n",
        "    </tr>\n",
        "  </thead>\n",
        "  <tbody>\n",
        "    <tr>\n",
        "      <th>0</th>\n",
        "      <td> 0.501105</td>\n",
        "      <td> 0.498895</td>\n",
        "      <td> 0.400000</td>\n",
        "      <td> 0.600000</td>\n",
        "      <td> 0.344491</td>\n",
        "      <td> 0.655509</td>\n",
        "      <td> 0.758825</td>\n",
        "      <td> 0.241175</td>\n",
        "    </tr>\n",
        "    <tr>\n",
        "      <th>1</th>\n",
        "      <td> 0.148687</td>\n",
        "      <td> 0.851313</td>\n",
        "      <td> 0.000000</td>\n",
        "      <td> 1.000000</td>\n",
        "      <td> 0.141339</td>\n",
        "      <td> 0.858661</td>\n",
        "      <td> 0.304723</td>\n",
        "      <td> 0.695277</td>\n",
        "    </tr>\n",
        "    <tr>\n",
        "      <th>2</th>\n",
        "      <td> 0.376102</td>\n",
        "      <td> 0.623898</td>\n",
        "      <td> 0.233333</td>\n",
        "      <td> 0.766667</td>\n",
        "      <td> 0.328712</td>\n",
        "      <td> 0.671288</td>\n",
        "      <td> 0.566262</td>\n",
        "      <td> 0.433738</td>\n",
        "    </tr>\n",
        "    <tr>\n",
        "      <th>3</th>\n",
        "      <td> 0.460750</td>\n",
        "      <td> 0.539250</td>\n",
        "      <td> 0.300000</td>\n",
        "      <td> 0.700000</td>\n",
        "      <td> 0.325603</td>\n",
        "      <td> 0.674397</td>\n",
        "      <td> 0.756648</td>\n",
        "      <td> 0.243352</td>\n",
        "    </tr>\n",
        "    <tr>\n",
        "      <th>4</th>\n",
        "      <td> 0.134348</td>\n",
        "      <td> 0.865652</td>\n",
        "      <td> 0.000000</td>\n",
        "      <td> 1.000000</td>\n",
        "      <td> 0.106568</td>\n",
        "      <td> 0.893432</td>\n",
        "      <td> 0.296476</td>\n",
        "      <td> 0.703524</td>\n",
        "    </tr>\n",
        "  </tbody>\n",
        "</table>\n",
        "</div>"
       ],
       "output_type": "pyout",
       "prompt_number": 42,
       "text": [
        "    bag [0]   bag [1]    rf [0]    rf [1]   svm [0]   svm [1]    lr [0]    lr [1]\n",
        "0  0.501105  0.498895  0.400000  0.600000  0.344491  0.655509  0.758825  0.241175\n",
        "1  0.148687  0.851313  0.000000  1.000000  0.141339  0.858661  0.304723  0.695277\n",
        "2  0.376102  0.623898  0.233333  0.766667  0.328712  0.671288  0.566262  0.433738\n",
        "3  0.460750  0.539250  0.300000  0.700000  0.325603  0.674397  0.756648  0.243352\n",
        "4  0.134348  0.865652  0.000000  1.000000  0.106568  0.893432  0.296476  0.703524"
       ]
      }
     ],
     "prompt_number": 42
    },
    {
     "cell_type": "code",
     "collapsed": false,
     "input": [],
     "language": "python",
     "metadata": {},
     "outputs": []
    }
   ],
   "metadata": {}
  }
 ]
}