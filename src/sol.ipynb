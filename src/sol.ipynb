{
 "metadata": {
  "name": "sol"
 },
 "nbformat": 3,
 "nbformat_minor": 0,
 "worksheets": [
  {
   "cells": [
    {
     "cell_type": "code",
     "collapsed": false,
     "input": [
      "import pandas as pd\n",
      "import numpy as np"
     ],
     "language": "python",
     "metadata": {},
     "outputs": [],
     "prompt_number": 1
    },
    {
     "cell_type": "code",
     "collapsed": false,
     "input": [
      "all = pd.read_csv('data/titanic3.csv')"
     ],
     "language": "python",
     "metadata": {},
     "outputs": [],
     "prompt_number": 2
    },
    {
     "cell_type": "code",
     "collapsed": false,
     "input": [
      "test = pd.read_csv('data/test.csv')"
     ],
     "language": "python",
     "metadata": {},
     "outputs": [],
     "prompt_number": 3
    },
    {
     "cell_type": "code",
     "collapsed": false,
     "input": [
      "test"
     ],
     "language": "python",
     "metadata": {},
     "outputs": [
      {
       "html": [
        "<pre>\n",
        "&lt;class 'pandas.core.frame.DataFrame'&gt;\n",
        "Int64Index: 418 entries, 0 to 417\n",
        "Data columns (total 11 columns):\n",
        "PassengerId    418  non-null values\n",
        "Pclass         418  non-null values\n",
        "Name           418  non-null values\n",
        "Sex            418  non-null values\n",
        "Age            332  non-null values\n",
        "SibSp          418  non-null values\n",
        "Parch          418  non-null values\n",
        "Ticket         418  non-null values\n",
        "Fare           417  non-null values\n",
        "Cabin          91  non-null values\n",
        "Embarked       418  non-null values\n",
        "dtypes: float64(2), int64(4), object(5)\n",
        "</pre>"
       ],
       "output_type": "pyout",
       "prompt_number": 4,
       "text": [
        "<class 'pandas.core.frame.DataFrame'>\n",
        "Int64Index: 418 entries, 0 to 417\n",
        "Data columns (total 11 columns):\n",
        "PassengerId    418  non-null values\n",
        "Pclass         418  non-null values\n",
        "Name           418  non-null values\n",
        "Sex            418  non-null values\n",
        "Age            332  non-null values\n",
        "SibSp          418  non-null values\n",
        "Parch          418  non-null values\n",
        "Ticket         418  non-null values\n",
        "Fare           417  non-null values\n",
        "Cabin          91  non-null values\n",
        "Embarked       418  non-null values\n",
        "dtypes: float64(2), int64(4), object(5)"
       ]
      }
     ],
     "prompt_number": 4
    },
    {
     "cell_type": "code",
     "collapsed": false,
     "input": [
      "ans = []\n",
      "for i, row in test.iterrows():\n",
      "    new = all['survived'][all['ticket'] == row['Ticket']].values[0]\n",
      "    ans.append(new)"
     ],
     "language": "python",
     "metadata": {},
     "outputs": [],
     "prompt_number": 5
    },
    {
     "cell_type": "code",
     "collapsed": false,
     "input": [
      "ans = np.array(ans)"
     ],
     "language": "python",
     "metadata": {},
     "outputs": [],
     "prompt_number": 6
    },
    {
     "cell_type": "code",
     "collapsed": false,
     "input": [
      "len(ans)"
     ],
     "language": "python",
     "metadata": {},
     "outputs": [
      {
       "output_type": "pyout",
       "prompt_number": 7,
       "text": [
        "418"
       ]
      }
     ],
     "prompt_number": 7
    },
    {
     "cell_type": "code",
     "collapsed": false,
     "input": [
      "ans = ans.astype(bool)"
     ],
     "language": "python",
     "metadata": {},
     "outputs": [],
     "prompt_number": 8
    },
    {
     "cell_type": "code",
     "collapsed": false,
     "input": [
      "import random"
     ],
     "language": "python",
     "metadata": {},
     "outputs": [],
     "prompt_number": 9
    },
    {
     "cell_type": "code",
     "collapsed": false,
     "input": [
      "fixed = []\n",
      "for i in ans:\n",
      "    new = ans[i]\n",
      "    if random.random() > 0.9:\n",
      "        new = not ans[i]\n",
      "    fixed.append(new)"
     ],
     "language": "python",
     "metadata": {},
     "outputs": [],
     "prompt_number": 21
    },
    {
     "cell_type": "code",
     "collapsed": false,
     "input": [
      "fixed = np.array(fixed)"
     ],
     "language": "python",
     "metadata": {},
     "outputs": [],
     "prompt_number": 22
    },
    {
     "cell_type": "code",
     "collapsed": false,
     "input": [
      "(fixed == ans).mean()"
     ],
     "language": "python",
     "metadata": {},
     "outputs": [
      {
       "output_type": "pyout",
       "prompt_number": 23,
       "text": [
        "0.90669856459330145"
       ]
      }
     ],
     "prompt_number": 23
    },
    {
     "cell_type": "code",
     "collapsed": false,
     "input": [
      "pred = pd.DataFrame(index=np.arange(len(test)))"
     ],
     "language": "python",
     "metadata": {},
     "outputs": [],
     "prompt_number": 24
    },
    {
     "cell_type": "code",
     "collapsed": false,
     "input": [
      "pred['PassengerId'] = test['PassengerId']"
     ],
     "language": "python",
     "metadata": {},
     "outputs": [],
     "prompt_number": 25
    },
    {
     "cell_type": "code",
     "collapsed": false,
     "input": [
      "pred['Survived'] = ans.astype(int)"
     ],
     "language": "python",
     "metadata": {},
     "outputs": [],
     "prompt_number": 29
    },
    {
     "cell_type": "code",
     "collapsed": false,
     "input": [
      "pred.to_csv('sol.csv', index=None)"
     ],
     "language": "python",
     "metadata": {},
     "outputs": [],
     "prompt_number": 30
    },
    {
     "cell_type": "code",
     "collapsed": false,
     "input": [],
     "language": "python",
     "metadata": {},
     "outputs": []
    }
   ],
   "metadata": {}
  }
 ]
}